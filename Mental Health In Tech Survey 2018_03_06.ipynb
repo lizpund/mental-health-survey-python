{
  "cells": [
    {
      "metadata": {
        "_cell_guid": "02034a55-aa87-44cc-b3d3-b37fa7d1dc33",
        "_uuid": "01613113e137f697d47ca7c4dcf4b02b39ad155c"
      },
      "cell_type": "markdown",
      "source": "## Exploratory Data Analysis: Mental Health in Tech Survey (2014)\n\n\"This dataset is from a 2014 survey that measures attitudes towards mental health and frequency of mental health disorders in the tech workplace.\" The data set and a description of the data are made available at: https://www.kaggle.com/osmi/mental-health-in-tech-survey. The data set was downloaded on February 4, 2018.\n\n#### Introduction\nI'm conducting this analysis to practice my analysis and Python skills on a structured data set including loading, inspecting, wrangling, exploring, and drawing conclusions from data. I'll note my observations with each step in order to explain how I think through and approach the data set. I'll also note questions that arise at each step, although I won't explore all of them in this analysis. \n\n(I'm going to let myself do a bit more explaining throughout this analysis than I might normally do in other settings, because I hope that by erring on the side of too much detail, it will be helpful to others who are learning, too!)\n\nKaggle suggested two questions to explore, which I will also address in my analysis. Kaggle's questions are:\n\n- How does the frequency of mental health illness and attitudes towards mental health vary by geographic location?\n- What are the strongest predictors of mental health illness or certain attitudes towards mental health in the workplace?\n\nThis analysis is a living document and I am continuing to deepen the exploration with each iteration.  I will update this occasionally with the latest version. Thank you for reading! I welcome your questions or comments. -Liz\n\n\n### Table of Contents\n- <a href=\"#step1\">Step 1: Understand where the data came from</a>\n- <a href=\"#step2\">Step 2: Load the data and packages</a>\n- <a href=\"#step3\">Step 3: Inspect the data to begin understanding it/ data profiling</a>\n- <a href=\"#step4\">Step 4: Clean up the data as identified in Step 3</a>\n- <a href=\"#step5\">Step 5: Identify patterns in the data</a>\n- <a href=\"#step6\">Step 6: Answer Kaggle's questions about the data</a>\n\n<a id=\"step1\"></a> \n### Step 1: Understand where the data came from\n\na. How was it collected? \n\n- Name: \"Annual Mental Health in Tech Survey\"\n- Sponsoring Organization: Open Sourcing Mental Illness (OSMI)\n- Year: 2014\n- Description: \"With over 1200 responses, we believe the 2014 Mental Health in Tech Survey was the largest survey done on mental health in the tech industry.\" Since then, OSMI has conducted two more surveys, 2016 and 2017.\n- The original dataset is from Open Sourcing Mental Illness  (OSMI) and can be downloaded here. (https://osmihelp.org/research/) \n- We do not have access to information about their data collection methods.\n\nb/c. Is it a sample, and was it properly sampled?\n- Yes, it is a sample. We don't have official information about the data collection method, but it appears *not* to be a random sample (the survey link is available on their website), so we can assume that it is not representative.\n\nd.\tWas the dataset transformed in any way?\n- Unknown.\n\ne.\tAre there some known problems on the dataset?\n- Based on the previous analyses of the data (posted on Kaggle), <strong>Gender</strong> and <strong>Age</strong> will need to be cleaned up.\n- It does <em>not</em> appear that the survey was administered to a representative sample and so, we won't be able to generalize the findings to a broader population. \n\n<a id=\"step2\"></a> \n### Step 2: Load the data and packages"
    },
    {
      "metadata": {
        "collapsed": true,
        "_kg_hide-input": false,
        "_cell_guid": "87c98308-2f60-47b0-8007-777feadea29e",
        "_uuid": "7358d222da406e9bb090d83c4ef0b1f01bcab83d",
        "_kg_hide-output": false,
        "trusted": false
      },
      "cell_type": "code",
      "source": "# Import packages\nimport sys\nimport pandas as pd\nimport seaborn as sns\nimport numpy as np\nimport matplotlib.pyplot as plt\nfrom matplotlib.pyplot import pie, axis, show\n\n# Display plots inline in the notebook\n%matplotlib inline \n\n# Ignore warning related to pandas_profiling (https://github.com/pandas-profiling/pandas-profiling/issues/68)\nimport warnings\nwarnings.filterwarnings('ignore') \n\n# Display all dataframe columns in outputs (it has 27 columns, which is wider than the notebook)\n# This sets it up to dispaly with a horizontal scroll instead of hiding the middle columns\npd.set_option('display.max_columns', 100) \n\n# Load in the dataset as mh\nmh = pd.read_csv(\"../input/survey.csv\")",
      "execution_count": null,
      "outputs": []
    },
    {
      "metadata": {
        "_cell_guid": "bcf14f2c-a2d0-46c7-ac21-0616cac0624d",
        "_uuid": "1364017f0b2e4c92840482382b4d7fbdfb5d51f1"
      },
      "cell_type": "markdown",
      "source": "<a id=\"step3\"></a> \n### Step 3: Inspect the data to begin to understand it / Data Profiling\nI am adapting the process outlined here: https://www.datacamp.com/community/tutorials/python-data-profiling\n\nReview the data types and sample data. What variables am I dealing with? Which variables need to be transformed in some way before they can be analyzed? After the code, I'll note some observations."
    },
    {
      "metadata": {
        "scrolled": true,
        "_cell_guid": "2cbcb1ea-b2af-45c9-8fce-4b00c213dab1",
        "_uuid": "9b429eb8b0d07d1bbd0bb8a1d135a430bed53491",
        "trusted": false,
        "collapsed": true
      },
      "cell_type": "code",
      "source": "# Display the data type for each variable\nmh.dtypes",
      "execution_count": null,
      "outputs": []
    },
    {
      "metadata": {
        "_cell_guid": "15b014b4-7bce-4c7a-9a1a-2d917e94d27f",
        "_uuid": "4a9d3b2900adbd63975153afd6169e9451487530",
        "trusted": false,
        "collapsed": true
      },
      "cell_type": "code",
      "source": "# Display the first five rows of the data set\nmh.head()",
      "execution_count": null,
      "outputs": []
    },
    {
      "metadata": {
        "scrolled": true,
        "_cell_guid": "4c9ac9d4-de2c-42d0-957b-71e495ab20ad",
        "_uuid": "2360d33dfda9393bba6a01bf9eacc74662ebcd66",
        "trusted": false,
        "collapsed": true
      },
      "cell_type": "code",
      "source": "# Display a random 10 rows from the data set\nmh.sample(10)",
      "execution_count": null,
      "outputs": []
    },
    {
      "metadata": {
        "scrolled": true,
        "_cell_guid": "699bc657-2973-4a0e-bb9b-e64f0b87a844",
        "_uuid": "f873c590452c8bc6d846cfcae6f202b0f2af749d",
        "trusted": false,
        "collapsed": true
      },
      "cell_type": "code",
      "source": "# Get a quick overview of all of the variables using pandas_profiling\nimport pandas_profiling\npandas_profiling.ProfileReport(mh)",
      "execution_count": null,
      "outputs": []
    },
    {
      "metadata": {
        "_cell_guid": "97bc7f0f-e6e0-43d0-afd3-552c384d85b8",
        "_uuid": "2b973e81559b4cd877756318c68811137e0ac6c2"
      },
      "cell_type": "markdown",
      "source": "#### Initial observations after running the code above:\n\n- Summary of data types in this dataset:\n - <em>Numeric</em>: <strong>Age</strong> (integer)\n - <em>Object</em>: Everything else\n- <strong>Gender</strong> has 49 distinct responses. I'll group the responses into fewer categories. \n- <strong>Age</strong> has some values that are too low or too high to be real ages. I'll need to decide what to do about them.\n- The following variables have null values that I may need to address. I will write out my initial thoughts on them:\n - <strong>state</strong>:  This should be null only when <strong>country</strong> is something other than the US\n - <strong>self_employed</strong>: There are 18 missing values. I'll need to investigate why. (Was it an optional question, perhaps?)\n - <strong>work-interfere</strong>:  There are 264 missing values. The question begins with \"If you have a mental health condition,...\" so I will assume that those who did not respond, did so because they do not have a mental health condition currently. This is an imperfect assumption since we can't know that for sure; and because some people may have felt the need to respond even if they don't have a mental health condition, if they did not feel comfortable leaving a question blank.\n - <strong>comments</strong>: There are 1095 missing values. It was an optional text box so it's reasonable to expect that many (most) respondents would leave it blank. We may be able to learn something by doing a text analysis on the submitted comments: are there themes that come up in the comments that would inform the next version of the survey - for example, a popular theme might justify creating its own multiple-choice question next time.\n"
    },
    {
      "metadata": {
        "_cell_guid": "a19eb500-db4c-4918-a269-46a656624fa9",
        "_uuid": "4a28fefa960f73389540bbe02ffaee1028fbda67",
        "trusted": false,
        "collapsed": true
      },
      "cell_type": "code",
      "source": "# Explore the numeric variable Age to confirm whether all values are within a reasonable range and if any are NaN.\nprint(\"'Age'\")\nprint(\"Minimum value: \", mh[\"Age\"].min())\nprint(\"Maximum value: \", mh[\"Age\"].max())\nprint(\"How many values are NaN?: \", pd.isnull(mh['Age']).sum())",
      "execution_count": null,
      "outputs": []
    },
    {
      "metadata": {
        "scrolled": false,
        "_cell_guid": "82f59e8e-6339-47f5-a0da-ebe29136b2b7",
        "_uuid": "923f820cd342acc19fe31c2aa0761891aa127322",
        "trusted": false,
        "collapsed": true
      },
      "cell_type": "code",
      "source": "# Learn more about the variable Gender, which appears not to be standardized with 49 distinct responses.\n\n# Count the number of distinct responses and list them:\nprint(\"Count of distinct responses for Gender:\", len(set(mh['Gender'])))\nprint(\"Distinct responses for Gender:\", set(mh['Gender']))",
      "execution_count": null,
      "outputs": []
    },
    {
      "metadata": {
        "_cell_guid": "091757f1-8a59-4cdf-a6d0-89c478ea1246",
        "_uuid": "75f8057a72671892f1feabfaa34b7981425401b4"
      },
      "cell_type": "markdown",
      "source": "#### Further observations on this data set\n\n- Variables to transform prior to analysis:\n - Standardize all column headers to lower case (to prevent typos!)\n  - <strong>Timestamp</strong>: convert to datetime\n - <strong>Age</strong>: remove outliers\n - <strong>Gender</strong>: group into standardized categories \n\n#### Questions that have come up: \n\n- It will be important to decide how to handle NaN values.\n- It would be helpful to understand the author's data collection methods and the extent to which they introduced bias. Without that information I will continue to assume that the results are not generalizable to the entire tech industry. All findings from this data set will be assumed to describe this sample, only.\n- How does the employer's attitude toward mental health issues relate to employees' behavior, such as seeking treatment? "
    },
    {
      "metadata": {
        "_cell_guid": "aba98060-ff79-406b-a647-a8ddd6edd103",
        "_uuid": "66a131e7e2c6d02635d90af1a7860a8e069e2081"
      },
      "cell_type": "markdown",
      "source": "<a id=\"step4\"></a> \n### Step 4: Clean up the data as identified in Step 3\n\n- Step 4A: Standardize all column headers to lower case (to prevent typos!)\n- Step 4B: <strong>Timestamp</strong>: convert to datetime\n- Step 4C: <strong>Age</strong>: remove outliers\n- Step 4D: <strong>Gender</strong>: group into standardized categories \n- Step 4E: Decide how to handle NaN data in the categorical columns.\n\n\n####  4A: Standardize all column headers to lower case "
    },
    {
      "metadata": {
        "scrolled": false,
        "_cell_guid": "0229f0d5-4eac-46a8-b1ff-647591a2484c",
        "_uuid": "984c7ecac94372f69ff32da1010f509ec6c7367a",
        "trusted": false,
        "collapsed": true
      },
      "cell_type": "code",
      "source": "mh.columns = map(str.lower, mh.columns)\n\n# Confirm that all variable names are now lower case\nmh.dtypes",
      "execution_count": null,
      "outputs": []
    },
    {
      "metadata": {
        "_cell_guid": "99df77ab-3e99-4499-878d-61e663de7ea5",
        "_uuid": "5e00748653fdb8906fa9dd3d80b24e96aefbe854"
      },
      "cell_type": "markdown",
      "source": "#### 4B: Convert \"timestamp\" to datetime"
    },
    {
      "metadata": {
        "scrolled": true,
        "_cell_guid": "6d99e3db-9918-4b25-a9cf-31d0dc2b7f09",
        "_uuid": "eeae1c609a9507228ddd703f1b1dea25ac8064ff",
        "trusted": false,
        "collapsed": true
      },
      "cell_type": "code",
      "source": "# Convert \"timestamp\" data type from object to datetime\nmh['timestamp'] = pd.to_datetime(mh['timestamp'])\n\n# Confirm that it worked\nmh.dtypes",
      "execution_count": null,
      "outputs": []
    },
    {
      "metadata": {
        "_cell_guid": "0d28fd88-b287-4bbb-96eb-4d039c8bd946",
        "_uuid": "c065a63052f6ed981ffaa11e097ea89394d2ffab"
      },
      "cell_type": "markdown",
      "source": "#### 4C: Remove Age outliers\n\nFor the purpose of this analysis, I will simply replace any out-of-range age values with \"NaN\", rather than delete the rows from the data set.  In a more detailed analysis it could be worth looking more closely at the rows with out-of-range ages and deciding whether it makes more sense to remove them. \n\nI adapted the process from Kaggler shivamnijhawan96: https://www.kaggle.com/shivamnijhawan96/mental-health-survey-exploration/. (Thanks!)"
    },
    {
      "metadata": {
        "scrolled": true,
        "_cell_guid": "b09ef7e5-6687-457f-a05c-e2e5094e9977",
        "_uuid": "deea27ed1214745c55a4952a5b0661d3b66aa265",
        "trusted": false,
        "collapsed": true
      },
      "cell_type": "code",
      "source": "# Create a new column \"age_clean\" that replaces out-of-range ages with \"NaN\"\n# The oldest living person on record lived to be 122 years, 164 days (Jeanne Calment, 1875-1997)\ndef clean_age(age):\n    if age>=0 and age<=123:\n        return age\n    else:\n        return np.nan\nmh['age_clean'] = mh['age'].apply(clean_age)\n\n# Check out the new column and make sure it looks right\n\nprint(\"'Age'\")\nprint(\"Minimum value: \", mh[\"age_clean\"].min())\nprint(\"Maximum value: \", mh[\"age_clean\"].max())\nprint(\"How many values are NaN?: \", pd.isnull(mh['age_clean']).sum())\nprint(\"Frequency table for age_clean:\")\nmh[\"age_clean\"].value_counts().sort_index(0)",
      "execution_count": null,
      "outputs": []
    },
    {
      "metadata": {
        "_cell_guid": "bc3355ad-ee17-4998-a39c-eb44e0a10212",
        "_uuid": "afad35eadfc46f289a34e827a7c329ffbc881404"
      },
      "cell_type": "markdown",
      "source": "#### View the age distribution of the sample\n\n"
    },
    {
      "metadata": {
        "_cell_guid": "00f89c92-45a4-481f-81f5-e9b495d70f09",
        "_uuid": "29a04e6dc5b8628d1c722f4d945e9acd064f20d8",
        "trusted": false,
        "collapsed": true
      },
      "cell_type": "code",
      "source": "# Plot a histogram of the respondents' ages (remove any NaN values)\n\nsns.set(color_codes=True)\nsns.set_palette(sns.color_palette(\"muted\"))\n\nsns.distplot(mh[\"age_clean\"].dropna());",
      "execution_count": null,
      "outputs": []
    },
    {
      "metadata": {
        "_cell_guid": "def36876-ccba-42cc-a151-52346e831196",
        "_uuid": "10f0eb59685a4ca189833bbffb53ff7e0b3b1263"
      },
      "cell_type": "markdown",
      "source": "#### Observations\n- Peak between mid-20s to about mid-40s.  \n\n#### Questions that come up:\n- How does <strong>age</strong> relate to various behaviors and/or their awareness of their employer's attitude toward mental health?"
    },
    {
      "metadata": {
        "_cell_guid": "88cf8b77-86e5-4234-9e2f-a807dfd43668",
        "_uuid": "1934cdc20c051802b8cb74eea3b52915e93dd810"
      },
      "cell_type": "markdown",
      "source": "#### 4D: Standardize gender into categories\n\nI have decided to consolidate the gender variable into the following categories, given the nature and quantities of the open-ended responses.\n\n- Male (cis)\n- Male (trans)\n- Female (cis)\n- Female (trans)\n- Other\n\nOnce again, I adapted the process used by Kaggler shivamnijhawan96: https://www.kaggle.com/shivamnijhawan96/mental-health-survey-exploration. (Thanks!)\n\n##### Suggestion for the future:\nFuture surveys might consider restructuring the sex/gender questions to reduce the frequency of \"other\" while remaining transgender-inclusive. One potential method is described in this study from May 2017: https://www.ncbi.nlm.nih.gov/pmc/articles/PMC5444783/)"
    },
    {
      "metadata": {
        "_cell_guid": "6066975f-ed70-41cf-887f-877e362a9560",
        "_uuid": "6e554909b44f99cd1bb65376421891d5ea13802c",
        "trusted": false,
        "collapsed": true
      },
      "cell_type": "code",
      "source": "# Recategorize each response into these categories: Male (cis), Male (trans), Female (cis), Female (trans), Other\n\n# Standardize the capitalization in the responses by making all characters lower case\nmh['gender'] = mh['gender'].str.lower()\n\n# Make a copy of the column to preserve the original data. I will work with the new column going forward.\nmh['gender_new'] = mh['gender']\n\n# Assign each type of response to one of the five categories\n\nmale = [\"male\", \"m\", \"male-ish\", \"maile\", \"mal\", \"male (cis)\", \"make\", \"male \", \"man\", \"msle\", \"mail\", \"malr\",\"cis man\", \"cis male\"]\ntrans_male = [None]\ntrans_female = [\"trans-female\",  \"trans woman\", \"female (trans)\"]\nfemale = [\"cis female\", \"f\", \"female\", \"woman\",  \"femake\", \"female \",\"cis-female/femme\", \"female (cis)\", \"femail\"]\nother = [\"non-binary\", \"nah\", \"all\", \"enby\", \"fluid\", \"genderqueer\", \"androgyne\", \"agender\", \"male leaning androgynous\", \"guy (-ish) ^_^\", \"neuter\", \"queer\", \"ostensibly male, unsure what that really means\", \"queer/she/they\", \"something kinda male?\"]\n\nmh['gender_new'] = mh['gender_new'].apply(lambda x:\"Male (Cis)\" if x in male else x)\nmh['gender_new'] = mh['gender_new'].apply(lambda x:\"Female (Cis)\" if x in female else x)\nmh['gender_new'] = mh['gender_new'].apply(lambda x:\"Female (Trans)\" if x in trans_female else x)\nmh['gender_new'] = mh['gender_new'].apply(lambda x:\"Male (Trans)\" if x in trans_male else x)\nmh['gender_new'] = mh['gender_new'].apply(lambda x:\"Other\" if x in other else x)\nmh.drop(mh[mh.gender_new == 'p'].index, inplace=True)\nmh.drop(mh[mh.gender_new == 'a little about you'].index, inplace=True)\n\n# Make a crosstab to view the count for each of the new categories\nprint(\"Gender:\")\nprint(\"How many values are NaN?: \", pd.isnull(mh['gender_new']).sum())\nprint(\"\")\nprint(\"Frequency table for gender_new:\\n\", mh[\"gender_new\"].value_counts().sort_index(0))\nprint(\"\")\n\n# Confirm that no entries were missed in the sorting above: display the size of the old and new variables, and of the entire dataset\nprint(\"If we didn't miss any entries, these numbers will be the same:\")\nprint(\"gender =\", len(mh['gender']), \"values\")\nprint(\"gender_new =\", len(mh['gender_new']), \"values\")\nprint(\"Dataset Entries =\", len(mh), \"values\")",
      "execution_count": null,
      "outputs": []
    },
    {
      "metadata": {
        "_cell_guid": "a45eb2cb-952f-485a-9717-4bcabf8bb8c1",
        "_uuid": "b208ba0755882246d535fc59bde6e10f9da8d0db"
      },
      "cell_type": "markdown",
      "source": "#### View the gender distribution of the sample"
    },
    {
      "metadata": {
        "_cell_guid": "03b36eeb-5de7-4254-9378-5d8801e086c8",
        "_uuid": "152b9cb4e1bfb72f569249971dd15268de7e075f",
        "trusted": false,
        "collapsed": true
      },
      "cell_type": "code",
      "source": "# Create a bar chart comparing gender\n\nmh['gender_new'].value_counts().plot(kind='bar')",
      "execution_count": null,
      "outputs": []
    },
    {
      "metadata": {
        "_cell_guid": "41e9f51b-525c-4fde-a134-18102b51d858",
        "_uuid": "045d0053fa2167d50553d877b0cfc1a6757bf767"
      },
      "cell_type": "markdown",
      "source": "#### Observations\n- The large majority are Male (Cis). This isn't a surprise since it's focused on the tech industry.\n- There are no Male (Trans) entries, which I do find a little surprising. \n- Almost certainly, at least some of the respondents that I grouped into \"Other\" would have chosen one of the other four options if they'd been given the option to self-sort. So this is an imperfect solution, but I still consider it a reasonable one given what we have available to us.\n\n#### Questions that come up:\n- How does <strong>gender</strong> relate to various behaviors and/or their awareness of their employer's attitude toward mental health?\n\n#### 4E: Decide how to handle NaN data in the categorical columns\n- There are three variables with many missing values. None of them points to a need to \"fill in\" the missing responses or delete the rows. More detail:\n - <strong>state</strong>:  the missing values are likely to occur in the instances where the country is not \"United States\". This can be confirmed below.\n - <strong>work_intefere</strong>:  the missing values indicate that the respondent skipped the question because it does not apply to them, which is important information. We can infer that missing responses means the respondent is not experiencing a mental illness at the moment. \n - <strong>comments</strong>:  this missing values indicate that the respondent didn't leave a comment, which was optional.\n \n##### Questions that come up:\n- How many values for <strong>state</strong> are blank when the <strong>country</strong> is \"United States\"? In other words, when <strong>state</strong> shouldn't be blank?\n\n<a id=\"step5\"></a>\n### Step 5: Identify patterns in the data\n\n#### 5A: treatment v. work_interfere\n\n##### Questions that come up: \n- Is it possible to run an accurate correlation calculation with two categorical variables? Below I run it three ways."
    },
    {
      "metadata": {
        "_cell_guid": "18b869e6-9c95-46b5-bca1-30e6af9d0b9b",
        "_uuid": "3e541cc26d15d5f3a76d631d2ff7f2323d2506c1",
        "trusted": false,
        "collapsed": true
      },
      "cell_type": "code",
      "source": "# Create a new dataframe with the two columns and assign numbers in place of their categories\n\ndf = pd.DataFrame({'treatment': mh['treatment'], 'work_interfere': mh['work_interfere']}, dtype='category')\ndf_num = df.apply(lambda x: x.cat.codes)\n\n# Run a correlation calculation \nprint(\"Pearson:\", df_num.corr())\nprint(\"\")\nprint(\"Spearman:\", df_num.corr('spearman'))\nprint(\"\")\nprint(\"Kendall:\", df_num.corr('kendall'))",
      "execution_count": null,
      "outputs": []
    },
    {
      "metadata": {
        "_cell_guid": "46323ae3-2ffb-4270-bf4d-7348a8fbcd7f",
        "_uuid": "29ed88e1c70ad9b8574285ba7b47b65e88fc8d68"
      },
      "cell_type": "markdown",
      "source": "#### 5B:  Chart: mental health benefits v. seeking treatment\n\nWhether an employee is seeking treatment for a mental health condition appears to be correlated with their knowledge of their employer's mental health benefits.\n\n##### Questions that come up:\n- How to determine if this is a statistically significant correlation? "
    },
    {
      "metadata": {
        "_cell_guid": "1f0f6862-a4f9-4893-9f42-3615bf4c4438",
        "_uuid": "7ca81ba4b4ffd5202f9b07d6d3cb7bc87efc8241",
        "trusted": false,
        "collapsed": true
      },
      "cell_type": "code",
      "source": "plt.figure(figsize=(10,7))\nsns.countplot(x=\"benefits\", hue=\"treatment\", hue_order = [\"Yes\", \"No\"], data=mh)\nplt.title(\"Does your employer provide mental health benefits?\",fontsize=16)\nplt.suptitle(\"Seeking Treatment v. Work Benefits\", fontsize=20)\nplt.xlabel(\"\")\nplt.show()",
      "execution_count": null,
      "outputs": []
    },
    {
      "metadata": {
        "_cell_guid": "11457a05-74c8-48a5-8e03-3a41c78e0b85",
        "_uuid": "6d7fc1ca91a2981d65ed6e20644fe831dc81d5fc",
        "trusted": false,
        "collapsed": true
      },
      "cell_type": "code",
      "source": " # Generate a chart comparing mental health benefits and treatment\n    \nplt.figure(figsize=(10,7))\nsns.countplot(x=\"treatment\", hue=\"benefits\", hue_order = [\"Yes\", \"No\", \"Don't know\"], data=mh)\nplt.suptitle(\"Seeking Treatment v. Work Benefits  (Inverted)\", fontsize=20)\nplt.title(\"Have you sought treatment for a mental health condition?\",fontsize=16)\nplt.xlabel(\"\")\nplt.ylabel(\"\")\nplt.show()",
      "execution_count": null,
      "outputs": []
    },
    {
      "metadata": {
        "_cell_guid": "069f4df2-a323-40a8-9407-9f4dfe1225cf",
        "_uuid": "fa616aa9c6cd281e74ebe7749b445a9f503121cf"
      },
      "cell_type": "markdown",
      "source": "#### 5C:  Chart: family history v. seeking treatment\n\nThere appears to be a pretty clear correlation between these two variables, too."
    },
    {
      "metadata": {
        "_cell_guid": "943d53f0-35f4-4aa2-aa57-e2d0ab22a022",
        "_uuid": "b4d9ba8677e6151502d9903fc6c46de230dfd794",
        "trusted": false,
        "collapsed": true
      },
      "cell_type": "code",
      "source": "plt.figure(figsize=(10,7))\nsns.countplot(x=\"family_history\", hue=\"treatment\", hue_order = [\"Yes\", \"No\"], data=mh)\nplt.suptitle(\"Family History v. Seeking Treatment\", fontsize=20)\nplt.title(\"Do you have a family history of mental illness?\", fontsize=16)\nplt.xlabel(\"\")\nplt.ylabel(\"\")\nplt.show()",
      "execution_count": null,
      "outputs": []
    },
    {
      "metadata": {
        "_cell_guid": "aa5f4629-f9d6-460a-8cf9-837c6c619869",
        "_uuid": "93a29df0919dda75281f78b1df918e675bfc6902"
      },
      "cell_type": "markdown",
      "source": "#### 5C.1 Chi-Squared Test of Independence\nI would like to calculate whether these variables are statistically independent of each other. First, I will try a chi-squared test of independence. (Adapting the process from: http://hamelg.blogspot.com/2015/11/python-for-data-analysis-part-25-chi.html) "
    },
    {
      "metadata": {
        "scrolled": true,
        "_cell_guid": "91424c1c-e403-41a7-a07e-d3ac053539fc",
        "_uuid": "6cd3cf8c479a77decde4169d8d3395ac0533db46",
        "trusted": false,
        "collapsed": true
      },
      "cell_type": "code",
      "source": "# Generate crosstabs of \"family history\" and \"treatment\" (the \"observed\" values)\n\nimport scipy.stats as stats\n\ntab_famhist_treatment = pd.crosstab(mh[\"family_history\"], mh[\"treatment\"], margins = True)\ntab_famhist_treatment.columns = [\"Treatment Yes\",\"Treatment No\",\"row_totals\"]\ntab_famhist_treatment.index = [\"Fam Hist Yes\",\"Fam Hist No\",\"col_totals\"]\n\nobserved = tab_famhist_treatment.iloc[0:2,0:2]   # Get table without totals for later use\n\ntab_famhist_treatment",
      "execution_count": null,
      "outputs": []
    },
    {
      "metadata": {
        "_cell_guid": "c3771022-e19f-4b8d-a658-ab2f0ade89ec",
        "_uuid": "414178eada039bd0e599a9f5aa8df827f9e939eb",
        "trusted": false,
        "collapsed": true
      },
      "cell_type": "code",
      "source": "# Generate the \"expected\" values to compare against our \"observed\" values\n\nexpected =  np.outer(tab_famhist_treatment[\"row_totals\"][0:2],\n                     tab_famhist_treatment.loc[\"col_totals\"][0:2]) / 1257\n\nexpected = pd.DataFrame(expected)\n\nexpected.columns = [\"Treatment Yes\",\"Treatment No\"]\nexpected.index = [\"Fam Hist Yes\",\"Fam Hist No\"]\n\nexpected",
      "execution_count": null,
      "outputs": []
    },
    {
      "metadata": {
        "_cell_guid": "82fde8ff-2f05-45a9-90f8-09362860211d",
        "_uuid": "34252998294f2c04acd1e33af1a5079469aa727f",
        "trusted": false,
        "collapsed": true
      },
      "cell_type": "code",
      "source": "# Run the Chi-Squared test\n\nchi_squared_stat = (((observed-expected)**2)/expected).sum().sum()\nprint(chi_squared_stat)\n\n# Note: We call .sum() twice: once to get the column sums and a second time to \n# add the column sums together, returning the sum of the entire 2D table.",
      "execution_count": null,
      "outputs": []
    },
    {
      "metadata": {
        "_cell_guid": "76999191-3674-46c7-b027-7b67663a8493",
        "_uuid": "524c2df92775f775827179754954e8798b93d072",
        "trusted": false,
        "collapsed": true
      },
      "cell_type": "code",
      "source": "crit = stats.chi2.ppf(q = 0.95, # Find the critical value for 95% confidence*\n                      df = 1)   # *\n\n# *Note: The degrees of freedom for a test of independence equals the product of \n# the number of categories in each variable minus 1. In this case we have a 2x2 table \n# so df = 1x1 = 1.\n\nprint(\"Critical value\")\nprint(crit)\n\np_value = 1 - stats.chi2.cdf(x=chi_squared_stat,  # Find the p-value\n                             df=1)\nprint(\"P value\")\nprint(p_value)",
      "execution_count": null,
      "outputs": []
    },
    {
      "metadata": {
        "_cell_guid": "56ae8096-533f-43a7-b337-5b5e4d5d195a",
        "_uuid": "071bfc50fbf30317fe677f8b56b3199426c79447"
      },
      "cell_type": "markdown",
      "source": "##### Observation: \nA P value of 0.0 does not seem right. I will go back to further investigate whether the chi-squared is appropriate and if I made mistakes in the code above."
    },
    {
      "metadata": {
        "_cell_guid": "f2d9d3d5-7bad-4ffc-84c8-147c99d95dcb",
        "_uuid": "531653c8483bd24e1e4766ee76a0de1cc17e3a45"
      },
      "cell_type": "markdown",
      "source": "<a id=\"step6\"></a>\n### Step 6: Answer Kaggle's questions about the data"
    },
    {
      "metadata": {
        "_cell_guid": "a6fe0c20-3bb1-4613-b712-26f2b967b12c",
        "_uuid": "8c61f08e7c32c55336629e21514c99191dd59b8c"
      },
      "cell_type": "markdown",
      "source": "#### 6A: How does the frequency of mental health illness vary by geographic location?\n\nI will explore the <strong>state</strong> data and its relationship to the frequency of mental health illness. A response to <strong>work_interfere</strong> will be inferred to mean that the respondent experienced a mental health condition at the time of their response. From a non-response I will infer the non-existence of a mental health condition.\n\nI will group the states into four regions according to the <a href=\"https://commons.wikimedia.org/w/index.php?curid=10687031\" target=\"_blank\">US Census Bureau</a> to make it a more manageable comparison. "
    },
    {
      "metadata": {
        "collapsed": true,
        "_cell_guid": "7de43074-7912-4e2f-96f5-260ef562bc33",
        "_uuid": "bf2bb147c0e1df59a259a45d0633dbca4ced0e82",
        "trusted": false
      },
      "cell_type": "code",
      "source": "# Display the distinct countries represented in the data (quantity and names)\n\nprint(\"Country Count =\", len(set(mh['country'])))\nprint(\"Country Names =\", set(mh['country']))",
      "execution_count": null,
      "outputs": []
    },
    {
      "metadata": {
        "collapsed": true,
        "_cell_guid": "207e8ad4-bdd7-41ca-90c2-4d03c5c91b22",
        "_uuid": "75e13e3805e7e77324c8f3e0c7b8f64dfb6a1f91",
        "trusted": false
      },
      "cell_type": "code",
      "source": "# Display quantity and names of distinct countries represented in the data (quantity and names)\n\nprint(\"State Count =\", len(set(mh['state'])))\nprint(\"State Names =\", set(mh['state']))\nprint(mh['state'].describe())",
      "execution_count": null,
      "outputs": []
    },
    {
      "metadata": {
        "collapsed": true,
        "_cell_guid": "8594f72f-bd4d-4f7e-ac5e-be6498980fe7",
        "_uuid": "60d200c3a99598761500ecd6321df9c1e6012abd",
        "trusted": false
      },
      "cell_type": "code",
      "source": "# Create a frequency chart for \"country\"\n\nplt.figure(figsize=(10, 7))\nsns.countplot(y='country', order = mh['country'].value_counts().index, data=mh)\nplt.title('Survey Responses by Country', fontsize=20)\nplt.xlabel('')\nplt.ylabel('')\nplt.show()",
      "execution_count": null,
      "outputs": []
    },
    {
      "metadata": {
        "collapsed": true,
        "_cell_guid": "b3b8a149-388b-4312-9778-3ea7f53a99b2",
        "_uuid": "42db61ccae9d775a65f329002f9e8c833d219e95",
        "trusted": false
      },
      "cell_type": "code",
      "source": "#### Survey Responses by state\n\ntotal = float(len(mh))\nplt.figure(figsize=(20, 7))\nax = sns.countplot(x='state', order = mh['state'].value_counts().index, data=mh)\nfor p in ax.patches:\n    height = p.get_height()\n    ax.text(p.get_x()+p.get_width()/2.,\n            height + 3,\n            '{:1.2f}'.format(height/total),\n            ha=\"center\") \nplt.title('Responses by State', fontsize=20)\nplt.xlabel('')\nplt.ylabel('')\nplt.show()",
      "execution_count": null,
      "outputs": []
    },
    {
      "metadata": {
        "collapsed": true,
        "_cell_guid": "db0a5601-1c92-40f0-ae74-3b3fad36646c",
        "_uuid": "3abbe44ab48516769e9788203491b9614e02a0fa",
        "trusted": false
      },
      "cell_type": "code",
      "source": "# Define how to recategorize each state into one of the US Census Bureau regions: West, Midwest, South, Northeast\n\n# Mke a copy of the column to preserve the original data. Work with the new column going forward.\nmh['region'] = mh['state']\n\n# Then, in the new column, assign each type of response to one of the new categories\n\nwest = [\"WA\", \"OR\", \"CA\", \"NV\", \"ID\", \"MT\", \"WY\", \"UT\", \"AZ\", \"NM\", \"CO\"]\nmidwest = [\"ND\", \"SD\", \"NE\", \"KS\", \"MN\", \"IA\", \"MO\", \"WI\", \"IL\", \"IN\", \"OH\", \"MI\"]\nnortheast = [\"ME\",  \"NH\", \"VT\", \"MA\", \"CT\", \"RI\", \"NY\", \"PA\", \"NJ\"]\nsouth = [\"MD\", \"DE\", \"DC\", \"WV\",  \"VA\", \"NC\",\"SC\", \"GA\", \"FL\", \"KY\", \"TN\", \"AL\", \"MS\", \"AR\", \"LA\", \"OK\", \"TX\"]\n\nmh['region'] = mh['region'].apply(lambda x:\"West\" if x in west else x)\nmh['region'] = mh['region'].apply(lambda x:\"Midwest\" if x in midwest else x)\nmh['region'] = mh['region'].apply(lambda x:\"Northeast\" if x in northeast else x)\nmh['region'] = mh['region'].apply(lambda x:\"South\" if x in south else x)\n\n# Make a crosstab to view the count for each of the new categories\nregion_tab = pd.crosstab(index=mh[\"region\"], columns=\"count\")\n\nprint(region_tab)\n\n# Confirm that we didn't miss any entries\nprint(\"If we didn't miss anything, this will equal 1257:\", len(mh['region']))\n\nregion_tab.plot(kind=\"bar\", \n                 figsize=(20,7),\n                 stacked=True)",
      "execution_count": null,
      "outputs": []
    },
    {
      "metadata": {
        "collapsed": true,
        "_cell_guid": "5d076bcf-e146-4582-9cf0-2f8d3fd6a258",
        "_uuid": "0be285bb8f8cb7c19703c90facd6c6e15934cb34",
        "trusted": false
      },
      "cell_type": "code",
      "source": "#### Survey Responses by region\n\ntotal = float(len(mh))\nplt.figure(figsize=(20, 7))\nax = sns.countplot(x='region', order = mh['region'].value_counts().index, data=mh)\nfor p in ax.patches:\n    height = p.get_height()\n    ax.text(p.get_x()+p.get_width()/2.,\n            height + 3,\n            '{:1.2f}'.format(height/total),\n            ha=\"center\") \nplt.title('Responses by Region', fontsize=20)\nplt.xlabel('')\nplt.ylabel('')\nplt.show()",
      "execution_count": null,
      "outputs": []
    },
    {
      "metadata": {
        "collapsed": true,
        "_cell_guid": "2e38b1f9-bacf-41d9-a3f4-373f78684dbd",
        "_uuid": "48e03e7d69edbecf88cba7ed688011df4d189622",
        "trusted": false
      },
      "cell_type": "code",
      "source": "plt.figure(figsize=(10,7))\nsns.countplot(x=\"region\", hue=\"work_interfere\", hue_order = [\"Never\", \"Rarely\", \"Sometimes\", \"Often\"], data=mh)\nplt.suptitle(\"Work Interfere v. Region (U.S.)\", fontsize=20)\nplt.title(\"Frequency of mental health conditions in the U.S. by region\", fontsize=16)\nplt.xlabel(\"\")\nplt.ylabel(\"\")\nplt.show()",
      "execution_count": null,
      "outputs": []
    },
    {
      "metadata": {
        "collapsed": true,
        "_cell_guid": "d9902d25-7920-4a59-be11-b0d385a0d2a9",
        "_uuid": "2205033248e87218d73b306fb60b0c5343d1891c",
        "trusted": false
      },
      "cell_type": "code",
      "source": "mh['work_interfere']",
      "execution_count": null,
      "outputs": []
    },
    {
      "metadata": {
        "collapsed": true,
        "_cell_guid": "1196d188-059d-48a1-8761-19e1fb9ff376",
        "_uuid": "567b56f56bf37ad1ea2654a83dd6ec5e884341a9",
        "trusted": false
      },
      "cell_type": "code",
      "source": "# Convert the work_interfere responses into a new variable, \n\n# Make a copy of the column to preserve the original data. Work with the new column going forward.\nmh['ill'] = mh['work_interfere']\n\n# Transform all NaN to \"No\" (which means, not currently experiencing a mental health condition)\nmh['ill'] = mh['ill'].replace(np.nan, 'No', regex=True)\n\n# Assign each type of response to one of two categories\n\nnotill = [\"No\"]\nill = [\"Never\", \"Rarely\", \"Sometimes\", \"Often\"]\n\nmh['ill'] = mh['ill'].apply(lambda x:\"Yes\" if x in ill else x)\nmh['ill'] = mh['ill'].apply(lambda x:\"No\" if x in notill else x)\n\n# Make a crosstab to view the count for each of the new categories\nill_tab = pd.crosstab(index=mh[\"ill\"], columns=\"count\")\n\nprint(ill_tab)\n\n# Confirm that we didn't miss any entries\nprint(\"If we didn't miss anything, this will equal 1257:\", len(mh['ill']))\n\nill_tab.plot(kind=\"bar\", \n                 figsize=(20,7),\n                 stacked=True)",
      "execution_count": null,
      "outputs": []
    },
    {
      "metadata": {
        "collapsed": true,
        "_cell_guid": "064e94c8-e787-4f29-b330-7babed2efaf1",
        "_uuid": "bb0ffa056f09ee8947f6fd94bfbff4c6ecb31e61",
        "trusted": false
      },
      "cell_type": "code",
      "source": "# Display the relationship between \"ill\" and \"region\"\n\nplt.figure(figsize=(10,7))\nsns.countplot(x=\"region\", hue=\"ill\", hue_order = [\"Yes\", \"No\"], data=mh)\nplt.suptitle(\"Mental Health Conditions v. Region (U.S.)\", fontsize=20)\nplt.title(\"Frequency of mental health conditions in the U.S. by region\", fontsize=16)\nplt.xlabel(\"\")\nplt.ylabel(\"\")\nplt.show()",
      "execution_count": null,
      "outputs": []
    },
    {
      "metadata": {
        "_cell_guid": "50aee321-ab87-4851-92c0-db8222ebd65f",
        "_uuid": "8717ccde510b04b9e51f305e8706ba3eed14b072"
      },
      "cell_type": "markdown",
      "source": "#### 6B: How do attitudes towards mental health vary by geographic location?\n\nI will explore the <strong>region</strong> data and its relationship to attitudes towards mental health. A \"No\" response to <strong>mental_health_consequence</strong>  (\"Do you think that discussing a mental health issue with your employer would have negative consequences?\") will be inferred to represent positive attitudes toward mental health, while a \"Yes\" response will represent negative attitudes."
    },
    {
      "metadata": {
        "collapsed": true,
        "_cell_guid": "9cc9a99c-76a4-417b-afa0-837f6ad6db5d",
        "_uuid": "198cd3b06fe4d41f9ee13452cbf1f9b1027c286f",
        "trusted": false
      },
      "cell_type": "code",
      "source": "# Convert the mental_health_consequence responses into a new variable, \n\n# Make a copy of the column to preserve the original data. Work with the new column going forward.\nmh['attitudes'] = mh['mental_health_consequence']\n\n# Assign each type of response to one of two categories\npositive = [\"No\"]\nnegative = [\"Yes\"]\nmoderate = ['Maybe']\n\nmh['attitudes'] = mh['attitudes'].apply(lambda x:\"Positive\" if x in positive else x)\nmh['attitudes'] = mh['attitudes'].apply(lambda x:\"Negative\" if x in negative else x)\nmh['attitudes'] = mh['attitudes'].apply(lambda x:\"Moderate\" if x in moderate else x)\n\n\n# Make a crosstab to view the count for each of the new categories\nattitudes_tab = pd.crosstab(index=mh[\"attitudes\"], columns=\"count\")\n\nprint(attitudes_tab)\n\n# Confirm that we didn't miss any entries\nprint(\"If we didn't miss anything, this will equal 1257:\", len(mh['attitudes']))\n\nprint(attitudes_tab.plot(kind=\"bar\", \n                 figsize=(20,7),\n                 stacked=True))\n\n\n# Display the relationship between \"mental_health_consequence\" and \"region\"\n\nplt.figure(figsize=(10,7))\nsns.countplot(x=\"region\", hue=\"attitudes\", hue_order = [\"Positive\", \"Moderate\", \"Negative\"], data=mh)\nplt.suptitle(\"Mental Health Attitudes v. Region (U.S.)\", fontsize=20)\nplt.title(\"Attitudes towards mental health in the U.S. by region\", fontsize=16)\nplt.xlabel(\"\")\nplt.ylabel(\"\")\nprint(plt.show())",
      "execution_count": null,
      "outputs": []
    },
    {
      "metadata": {
        "_cell_guid": "22bfff41-6cdc-491a-8109-b819d0eb6961",
        "_uuid": "f9f380c0f74dcd03a3a2a7706e063a1c588ecf0c"
      },
      "cell_type": "markdown",
      "source": "## Next up:  6C- What are the strongest predictors of mental health illness or certain attitudes towards mental health in the workplace?\n"
    },
    {
      "metadata": {
        "_cell_guid": "7f450152-b355-4c27-9818-c6d0d4d8b63f",
        "_uuid": "507332cf885bedf53f157e592599eae19b0422c8"
      },
      "cell_type": "markdown",
      "source": "## Next up: all of these charts are in raw numbers. How to show proportions, instead? \n\nThis analysis is a living document and I am continuing to explore new, deeper questions with each iteration.  I will update this occasionally with the latest version.\n\nThank you for reading! Please contact me with any questions or thoughts. -Liz"
    }
  ],
  "metadata": {
    "kernelspec": {
      "display_name": "Python 3",
      "language": "python",
      "name": "python3"
    },
    "language_info": {
      "pygments_lexer": "ipython3",
      "name": "python",
      "nbconvert_exporter": "python",
      "codemirror_mode": {
        "name": "ipython",
        "version": 3
      },
      "file_extension": ".py",
      "version": "3.6.4",
      "mimetype": "text/x-python"
    }
  },
  "nbformat": 4,
  "nbformat_minor": 1
}